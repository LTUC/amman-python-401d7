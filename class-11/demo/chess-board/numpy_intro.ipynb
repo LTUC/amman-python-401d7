{
 "cells": [
  {
   "cell_type": "markdown",
   "id": "ca1c35a2-456e-409b-b4f3-1e5bb1b19dad",
   "metadata": {},
   "source": [
    "# Intro to Numpy"
   ]
  },
  {
   "cell_type": "code",
   "execution_count": 1,
   "id": "816e28c5-1c15-4e1c-84eb-92f66f95106c",
   "metadata": {},
   "outputs": [],
   "source": [
    "import numpy as np"
   ]
  },
  {
   "cell_type": "code",
   "execution_count": 2,
   "id": "06b771f7-659d-4cfb-981f-a5a339a349fc",
   "metadata": {},
   "outputs": [
    {
     "data": {
      "text/plain": [
       "<module 'numpy' from '/Users/ahmadalawad/Desktop/all-cf-material/401/python/amman-python-401d7/class-11/demo/chess-board/.venv/lib/python3.8/site-packages/numpy/__init__.py'>"
      ]
     },
     "execution_count": 2,
     "metadata": {},
     "output_type": "execute_result"
    }
   ],
   "source": [
    "np"
   ]
  },
  {
   "cell_type": "code",
   "execution_count": 3,
   "id": "7c328921-8bdc-496c-a807-162b3eb881f7",
   "metadata": {},
   "outputs": [],
   "source": [
    "nums = [3,7,5,8]"
   ]
  },
  {
   "cell_type": "code",
   "execution_count": 4,
   "id": "d4caf065-54b4-4c30-a82b-f5836ff4015c",
   "metadata": {},
   "outputs": [
    {
     "data": {
      "text/plain": [
       "[3, 7, 5, 8]"
      ]
     },
     "execution_count": 4,
     "metadata": {},
     "output_type": "execute_result"
    }
   ],
   "source": [
    "nums"
   ]
  },
  {
   "cell_type": "code",
   "execution_count": 5,
   "id": "337b6cc4-d4d9-4670-9c52-de84cf629886",
   "metadata": {},
   "outputs": [
    {
     "data": {
      "text/plain": [
       "<function numpy.array>"
      ]
     },
     "execution_count": 5,
     "metadata": {},
     "output_type": "execute_result"
    }
   ],
   "source": [
    "np.array"
   ]
  },
  {
   "cell_type": "code",
   "execution_count": 6,
   "id": "a155c39b-5621-43fc-a6c5-1745204b3452",
   "metadata": {},
   "outputs": [],
   "source": [
    "nums_as_np = np.array(nums)"
   ]
  },
  {
   "cell_type": "code",
   "execution_count": 7,
   "id": "960d5b47-7af5-4840-b822-6ad6992db9f4",
   "metadata": {},
   "outputs": [
    {
     "data": {
      "text/plain": [
       "array([3, 7, 5, 8])"
      ]
     },
     "execution_count": 7,
     "metadata": {},
     "output_type": "execute_result"
    }
   ],
   "source": [
    "nums_as_np"
   ]
  },
  {
   "cell_type": "code",
   "execution_count": 8,
   "id": "5523d3e5-78ff-4643-8378-ddbecd48944c",
   "metadata": {},
   "outputs": [
    {
     "data": {
      "text/plain": [
       "numpy.ndarray"
      ]
     },
     "execution_count": 8,
     "metadata": {},
     "output_type": "execute_result"
    }
   ],
   "source": [
    "type(nums_as_np)"
   ]
  },
  {
   "cell_type": "code",
   "execution_count": 25,
   "id": "0f3372e8-d418-4760-831a-efcc99ad1503",
   "metadata": {},
   "outputs": [
    {
     "data": {
      "text/plain": [
       "(4,)"
      ]
     },
     "execution_count": 25,
     "metadata": {},
     "output_type": "execute_result"
    }
   ],
   "source": [
    "nums_as_np.shape"
   ]
  },
  {
   "cell_type": "code",
   "execution_count": 10,
   "id": "0b45aba6-ad73-4af3-8f7e-f7db4ccbfc54",
   "metadata": {},
   "outputs": [],
   "source": [
    "two_dim_array = np.array([ [2,5,6] , [8,3,5] ])"
   ]
  },
  {
   "cell_type": "code",
   "execution_count": 12,
   "id": "5413b2e6-25b1-4457-9df4-99555ca4c534",
   "metadata": {},
   "outputs": [
    {
     "data": {
      "text/plain": [
       "array([[2, 5, 6],\n",
       "       [8, 3, 5]])"
      ]
     },
     "execution_count": 12,
     "metadata": {},
     "output_type": "execute_result"
    }
   ],
   "source": [
    "two_dim_array"
   ]
  },
  {
   "cell_type": "code",
   "execution_count": 14,
   "id": "9185873b-183f-41b4-abce-a31224357082",
   "metadata": {},
   "outputs": [
    {
     "data": {
      "text/plain": [
       "(2, 3)"
      ]
     },
     "execution_count": 14,
     "metadata": {},
     "output_type": "execute_result"
    }
   ],
   "source": [
    "two_dim_array.shape"
   ]
  },
  {
   "cell_type": "code",
   "execution_count": 15,
   "id": "85afc6ca-4da5-4e34-89c1-756f77483d8c",
   "metadata": {},
   "outputs": [
    {
     "data": {
      "text/plain": [
       "array([2, 5, 6])"
      ]
     },
     "execution_count": 15,
     "metadata": {},
     "output_type": "execute_result"
    }
   ],
   "source": [
    "two_dim_array[0]"
   ]
  },
  {
   "cell_type": "code",
   "execution_count": 16,
   "id": "67d9559d-b4a2-4337-992d-e79f73b51ab8",
   "metadata": {},
   "outputs": [
    {
     "data": {
      "text/plain": [
       "6"
      ]
     },
     "execution_count": 16,
     "metadata": {},
     "output_type": "execute_result"
    }
   ],
   "source": [
    "two_dim_array[0,2]"
   ]
  },
  {
   "cell_type": "code",
   "execution_count": 21,
   "id": "a3ba898f-f2a7-4a24-9358-3ab5b95b466b",
   "metadata": {},
   "outputs": [
    {
     "data": {
      "text/plain": [
       "array([[2, 5, 6]])"
      ]
     },
     "execution_count": 21,
     "metadata": {},
     "output_type": "execute_result"
    }
   ],
   "source": [
    "two_dim_array[:1]"
   ]
  },
  {
   "cell_type": "code",
   "execution_count": 27,
   "id": "8be15d90-39d5-4caf-bdd9-8d5faab46f4e",
   "metadata": {},
   "outputs": [
    {
     "data": {
      "text/plain": [
       "array([6, 5])"
      ]
     },
     "execution_count": 27,
     "metadata": {},
     "output_type": "execute_result"
    }
   ],
   "source": [
    "two_dim_array[:,2]"
   ]
  },
  {
   "cell_type": "markdown",
   "id": "36ffe559-9f5b-47e9-932d-16ccf3e866c4",
   "metadata": {},
   "source": [
    "## Dealing with files"
   ]
  },
  {
   "cell_type": "code",
   "execution_count": 30,
   "id": "d53ff9ca-3481-4981-9483-c0e743155ae0",
   "metadata": {},
   "outputs": [
    {
     "name": "stdout",
     "output_type": "stream",
     "text": [
      "Hours,Scores\n",
      "2.5,21\n",
      "5.1,47\n",
      "3.2,27\n",
      "8.5,75\n",
      "3.5,30\n",
      "1.5,20\n",
      "9.2,88\n",
      "5.5,60\n",
      "8.3,81\n",
      "2.7,25\n",
      "7.7,85\n",
      "5.9,62\n",
      "4.5,41\n",
      "3.3,42\n",
      "1.1,17\n",
      "8.9,95\n",
      "2.5,30\n",
      "1.9,24\n",
      "6.1,67\n",
      "7.4,69\n",
      "2.7,30\n",
      "4.8,54\n",
      "3.8,35\n",
      "6.9,76\n",
      "7.8,86\n",
      "\n"
     ]
    }
   ],
   "source": [
    "with open('student_scores.csv') as f:\n",
    "    print(f.read())\n",
    "    # '2.5,21' => ['2.5', '21']"
   ]
  },
  {
   "cell_type": "code",
   "execution_count": 31,
   "id": "5ce25bc2-62e6-4c3a-bed0-efc78da1be9b",
   "metadata": {},
   "outputs": [],
   "source": [
    "dataset = np.genfromtxt('student_scores.csv', delimiter=',', skip_header=True)"
   ]
  },
  {
   "cell_type": "code",
   "execution_count": 32,
   "id": "d1fb3ffa-d453-4267-9585-85894fcc4575",
   "metadata": {},
   "outputs": [
    {
     "data": {
      "text/plain": [
       "(25, 2)"
      ]
     },
     "execution_count": 32,
     "metadata": {},
     "output_type": "execute_result"
    }
   ],
   "source": [
    "dataset.shape"
   ]
  },
  {
   "cell_type": "code",
   "execution_count": 33,
   "id": "014e5d7c-ac56-4ade-964d-ec9bc19b85be",
   "metadata": {},
   "outputs": [
    {
     "data": {
      "text/plain": [
       "array([[ 2.5, 21. ],\n",
       "       [ 5.1, 47. ],\n",
       "       [ 3.2, 27. ],\n",
       "       [ 8.5, 75. ],\n",
       "       [ 3.5, 30. ],\n",
       "       [ 1.5, 20. ],\n",
       "       [ 9.2, 88. ],\n",
       "       [ 5.5, 60. ],\n",
       "       [ 8.3, 81. ],\n",
       "       [ 2.7, 25. ],\n",
       "       [ 7.7, 85. ],\n",
       "       [ 5.9, 62. ],\n",
       "       [ 4.5, 41. ],\n",
       "       [ 3.3, 42. ],\n",
       "       [ 1.1, 17. ],\n",
       "       [ 8.9, 95. ],\n",
       "       [ 2.5, 30. ],\n",
       "       [ 1.9, 24. ],\n",
       "       [ 6.1, 67. ],\n",
       "       [ 7.4, 69. ],\n",
       "       [ 2.7, 30. ],\n",
       "       [ 4.8, 54. ],\n",
       "       [ 3.8, 35. ],\n",
       "       [ 6.9, 76. ],\n",
       "       [ 7.8, 86. ]])"
      ]
     },
     "execution_count": 33,
     "metadata": {},
     "output_type": "execute_result"
    }
   ],
   "source": [
    "dataset"
   ]
  },
  {
   "cell_type": "code",
   "execution_count": 37,
   "id": "a8ee5196-e632-45d3-99fa-092160bab434",
   "metadata": {},
   "outputs": [
    {
     "data": {
      "text/plain": [
       "5.012"
      ]
     },
     "execution_count": 37,
     "metadata": {},
     "output_type": "execute_result"
    }
   ],
   "source": [
    "# Avergae number of hours spent studying\n",
    "hours = dataset[:,0]\n",
    "avg_studied_hours = np.average(hours)\n",
    "avg_studied_hours"
   ]
  },
  {
   "cell_type": "code",
   "execution_count": 38,
   "id": "0d883205-b1b4-4994-90ca-4f26f6a698fd",
   "metadata": {},
   "outputs": [
    {
     "data": {
      "text/plain": [
       "5.012"
      ]
     },
     "execution_count": 38,
     "metadata": {},
     "output_type": "execute_result"
    }
   ],
   "source": [
    "np.mean(hours)"
   ]
  },
  {
   "cell_type": "code",
   "execution_count": 39,
   "id": "d6d80418-6641-4b00-96b5-a61395c2181c",
   "metadata": {},
   "outputs": [
    {
     "data": {
      "text/plain": [
       "4.8"
      ]
     },
     "execution_count": 39,
     "metadata": {},
     "output_type": "execute_result"
    }
   ],
   "source": [
    "np.median(hours)"
   ]
  },
  {
   "cell_type": "code",
   "execution_count": null,
   "id": "dc10742f-e4f6-4761-b8dd-1114088505dd",
   "metadata": {},
   "outputs": [],
   "source": []
  }
 ],
 "metadata": {
  "kernelspec": {
   "display_name": "Python 3 (ipykernel)",
   "language": "python",
   "name": "python3"
  },
  "language_info": {
   "codemirror_mode": {
    "name": "ipython",
    "version": 3
   },
   "file_extension": ".py",
   "mimetype": "text/x-python",
   "name": "python",
   "nbconvert_exporter": "python",
   "pygments_lexer": "ipython3",
   "version": "3.8.1"
  }
 },
 "nbformat": 4,
 "nbformat_minor": 5
}
