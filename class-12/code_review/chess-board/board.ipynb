{
 "cells": [
  {
   "cell_type": "code",
   "execution_count": 49,
   "id": "f21a90b1-7cda-4ab0-83fe-4d6e1cb2b822",
   "metadata": {},
   "outputs": [],
   "source": [
    "\n",
    "import numpy as np\n",
    "\n",
    "%matplotlib inline\n",
    "import matplotlib.pyplot as plt\n",
    "\n",
    "class ChessBoard:\n",
    "    \n",
    "    red = [1,0,0]\n",
    "    blue = [0,0,1]\n",
    "    def __init__(self):\n",
    "        self.board = np.ones([8,8,3])\n",
    "        self.red_coords = []\n",
    "        self.blue_coords = []\n",
    "        for i in np.ndindex(8,8):\n",
    "            row = i[0]\n",
    "            col = i[1]\n",
    "            # if row%2==0 and col%2==1 or row%2==1 and col%2==0:\n",
    "            if row%2 != col%2:\n",
    "                self.board[row, col] = [0,0,0]\n",
    "    \n",
    "    def add_red(self, row, col):\n",
    "        self.board[row, col] = self.red\n",
    "        self.red_coords = [row, col]\n",
    "    \n",
    "    def add_blue(self, row, col):\n",
    "        self.board[row, col] = self.blue\n",
    "        self.blue_coords = [row, col]\n",
    "    \n",
    "    def render(self):\n",
    "        plt.imshow(self.board)\n",
    "    \n",
    "    def is_under_attack(self):\n",
    "        if self.is_vertical(self.red_coords, self.blue_coords):\n",
    "            return True\n",
    "        if self.is_horizental(self.red_coords, self.blue_coords):\n",
    "            return True \n",
    "        return False\n",
    "    \n",
    "    def is_vertical(self, cell1, cell2):\n",
    "        if cell1[1] == cell2[1]:\n",
    "            return True\n",
    "        return False\n",
    "    \n",
    "    def is_horizental(self, cell1, cell2):\n",
    "        if cell1[0] == cell2[0]:\n",
    "            return True\n",
    "        return False\n",
    "    \n",
    "    def is_diagonal(self, cell1, cell2):\n",
    "        pass"
   ]
  },
  {
   "cell_type": "code",
   "execution_count": 73,
   "id": "c9e1f441-cd6c-46da-9a08-52ff22cda6f9",
   "metadata": {},
   "outputs": [],
   "source": [
    "board = ChessBoard()"
   ]
  },
  {
   "cell_type": "code",
   "execution_count": 74,
   "id": "3bdd604f-ff09-4130-826b-700780a875a7",
   "metadata": {},
   "outputs": [],
   "source": [
    "board.add_blue(2,3)"
   ]
  },
  {
   "cell_type": "code",
   "execution_count": 75,
   "id": "e4ac74f1-8fcf-4c61-8873-a323811cfff6",
   "metadata": {},
   "outputs": [],
   "source": [
    "board.add_red(0,1)"
   ]
  },
  {
   "cell_type": "code",
   "execution_count": 76,
   "id": "5bbb485e-896a-428d-b5a9-12ccdd5e501b",
   "metadata": {},
   "outputs": [
    {
     "data": {
      "image/png": "[encoded data removed]",
      "text/plain": [
       "<Figure size 432x288 with 1 Axes>"
      ]
     },
     "metadata": {
      "needs_background": "light"
     },
     "output_type": "display_data"
    }
   ],
   "source": [
    "board.render()"
   ]
  },
  {
   "cell_type": "code",
   "execution_count": 72,
   "id": "91cbdc4b-3220-483f-9075-4b77f0a08b42",
   "metadata": {},
   "outputs": [
    {
     "data": {
      "text/plain": [
       "False"
      ]
     },
     "execution_count": 72,
     "metadata": {},
     "output_type": "execute_result"
    }
   ],
   "source": [
    "board.is_under_attack()"
   ]
  },
  {
   "cell_type": "code",
   "execution_count": null,
   "id": "673ca63e-7df7-4367-b30e-a0e6ce7ba879",
   "metadata": {},
   "outputs": [],
   "source": []
  }
 ],
 "metadata": {
  "kernelspec": {
   "display_name": "Python 3 (ipykernel)",
   "language": "python",
   "name": "python3"
  },
  "language_info": {
   "codemirror_mode": {
    "name": "ipython",
    "version": 3
   },
   "file_extension": ".py",
   "mimetype": "text/x-python",
   "name": "python",
   "nbconvert_exporter": "python",
   "pygments_lexer": "ipython3",
   "version": "3.8.1"
  }
 },
 "nbformat": 4,
 "nbformat_minor": 5
}
