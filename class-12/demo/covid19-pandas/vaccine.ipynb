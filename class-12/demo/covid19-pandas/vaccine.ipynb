{
 "cells": [
  {
   "cell_type": "markdown",
   "id": "ad75473d-0ec7-487d-931a-c56ba30a8479",
   "metadata": {},
   "source": [
    "# Vaccine Data Analysis using Pandas"
   ]
  },
  {
   "cell_type": "code",
   "execution_count": 1,
   "id": "07232fc9-f3a7-420b-acfd-0350ba940960",
   "metadata": {},
   "outputs": [],
   "source": [
    "%matplotlib inline\n",
    "import matplotlib.pyplot as plt\n",
    "\n",
    "import pandas as pd"
   ]
  },
  {
   "cell_type": "code",
   "execution_count": 2,
   "id": "e85a3e02-2390-475f-a864-78e0ce254497",
   "metadata": {},
   "outputs": [],
   "source": [
    "df = pd.read_csv('country_vaccinations_by_manufacturer.csv')"
   ]
  },
  {
   "cell_type": "code",
   "execution_count": 3,
   "id": "2dfc4283-8ddf-441f-b45e-d40d0898b39e",
   "metadata": {},
   "outputs": [
    {
     "data": {
      "text/html": [
       "<div>\n",
       "<style scoped>\n",
       "    .dataframe tbody tr th:only-of-type {\n",
       "        vertical-align: middle;\n",
       "    }\n",
       "\n",
       "    .dataframe tbody tr th {\n",
       "        vertical-align: top;\n",
       "    }\n",
       "\n",
       "    .dataframe thead th {\n",
       "        text-align: right;\n",
       "    }\n",
       "</style>\n",
       "<table border=\"1\" class=\"dataframe\">\n",
       "  <thead>\n",
       "    <tr style=\"text-align: right;\">\n",
       "      <th></th>\n",
       "      <th>location</th>\n",
       "      <th>date</th>\n",
       "      <th>vaccine</th>\n",
       "      <th>total_vaccinations</th>\n",
       "    </tr>\n",
       "  </thead>\n",
       "  <tbody>\n",
       "    <tr>\n",
       "      <th>0</th>\n",
       "      <td>Austria</td>\n",
       "      <td>2021-01-08</td>\n",
       "      <td>Johnson&amp;Johnson</td>\n",
       "      <td>0</td>\n",
       "    </tr>\n",
       "    <tr>\n",
       "      <th>1</th>\n",
       "      <td>Austria</td>\n",
       "      <td>2021-01-08</td>\n",
       "      <td>Moderna</td>\n",
       "      <td>0</td>\n",
       "    </tr>\n",
       "    <tr>\n",
       "      <th>2</th>\n",
       "      <td>Austria</td>\n",
       "      <td>2021-01-08</td>\n",
       "      <td>Oxford/AstraZeneca</td>\n",
       "      <td>0</td>\n",
       "    </tr>\n",
       "    <tr>\n",
       "      <th>3</th>\n",
       "      <td>Austria</td>\n",
       "      <td>2021-01-08</td>\n",
       "      <td>Pfizer/BioNTech</td>\n",
       "      <td>31236</td>\n",
       "    </tr>\n",
       "    <tr>\n",
       "      <th>4</th>\n",
       "      <td>Austria</td>\n",
       "      <td>2021-01-15</td>\n",
       "      <td>Johnson&amp;Johnson</td>\n",
       "      <td>0</td>\n",
       "    </tr>\n",
       "    <tr>\n",
       "      <th>...</th>\n",
       "      <td>...</td>\n",
       "      <td>...</td>\n",
       "      <td>...</td>\n",
       "      <td>...</td>\n",
       "    </tr>\n",
       "    <tr>\n",
       "      <th>21374</th>\n",
       "      <td>European Union</td>\n",
       "      <td>2021-11-12</td>\n",
       "      <td>Oxford/AstraZeneca</td>\n",
       "      <td>67200923</td>\n",
       "    </tr>\n",
       "    <tr>\n",
       "      <th>21375</th>\n",
       "      <td>European Union</td>\n",
       "      <td>2021-11-12</td>\n",
       "      <td>Pfizer/BioNTech</td>\n",
       "      <td>429215338</td>\n",
       "    </tr>\n",
       "    <tr>\n",
       "      <th>21376</th>\n",
       "      <td>European Union</td>\n",
       "      <td>2021-11-12</td>\n",
       "      <td>Sinopharm/Beijing</td>\n",
       "      <td>2150730</td>\n",
       "    </tr>\n",
       "    <tr>\n",
       "      <th>21377</th>\n",
       "      <td>European Union</td>\n",
       "      <td>2021-11-12</td>\n",
       "      <td>Sinovac</td>\n",
       "      <td>9</td>\n",
       "    </tr>\n",
       "    <tr>\n",
       "      <th>21378</th>\n",
       "      <td>European Union</td>\n",
       "      <td>2021-11-12</td>\n",
       "      <td>Sputnik V</td>\n",
       "      <td>1845011</td>\n",
       "    </tr>\n",
       "  </tbody>\n",
       "</table>\n",
       "<p>21379 rows × 4 columns</p>\n",
       "</div>"
      ],
      "text/plain": [
       "             location        date             vaccine  total_vaccinations\n",
       "0             Austria  2021-01-08     Johnson&Johnson                   0\n",
       "1             Austria  2021-01-08             Moderna                   0\n",
       "2             Austria  2021-01-08  Oxford/AstraZeneca                   0\n",
       "3             Austria  2021-01-08     Pfizer/BioNTech               31236\n",
       "4             Austria  2021-01-15     Johnson&Johnson                   0\n",
       "...               ...         ...                 ...                 ...\n",
       "21374  European Union  2021-11-12  Oxford/AstraZeneca            67200923\n",
       "21375  European Union  2021-11-12     Pfizer/BioNTech           429215338\n",
       "21376  European Union  2021-11-12   Sinopharm/Beijing             2150730\n",
       "21377  European Union  2021-11-12             Sinovac                   9\n",
       "21378  European Union  2021-11-12           Sputnik V             1845011\n",
       "\n",
       "[21379 rows x 4 columns]"
      ]
     },
     "execution_count": 3,
     "metadata": {},
     "output_type": "execute_result"
    }
   ],
   "source": [
    "df"
   ]
  },
  {
   "cell_type": "markdown",
   "id": "9b1dc5f2-ea6d-4cb0-9d6e-9a93848011dd",
   "metadata": {},
   "source": [
    "## South Korea data"
   ]
  },
  {
   "cell_type": "code",
   "execution_count": 4,
   "id": "f8a08063-fa19-4621-bfd1-cda755a594bc",
   "metadata": {},
   "outputs": [],
   "source": [
    "south_korea_data = df[ df['location'] == 'South Korea' ] "
   ]
  },
  {
   "cell_type": "code",
   "execution_count": 5,
   "id": "380260e0-253f-4fb3-8dc3-5f0203c07a50",
   "metadata": {},
   "outputs": [
    {
     "data": {
      "text/html": [
       "<div>\n",
       "<style scoped>\n",
       "    .dataframe tbody tr th:only-of-type {\n",
       "        vertical-align: middle;\n",
       "    }\n",
       "\n",
       "    .dataframe tbody tr th {\n",
       "        vertical-align: top;\n",
       "    }\n",
       "\n",
       "    .dataframe thead th {\n",
       "        text-align: right;\n",
       "    }\n",
       "</style>\n",
       "<table border=\"1\" class=\"dataframe\">\n",
       "  <thead>\n",
       "    <tr style=\"text-align: right;\">\n",
       "      <th></th>\n",
       "      <th>location</th>\n",
       "      <th>date</th>\n",
       "      <th>vaccine</th>\n",
       "      <th>total_vaccinations</th>\n",
       "    </tr>\n",
       "  </thead>\n",
       "  <tbody>\n",
       "    <tr>\n",
       "      <th>14218</th>\n",
       "      <td>South Korea</td>\n",
       "      <td>2021-02-26</td>\n",
       "      <td>Johnson&amp;Johnson</td>\n",
       "      <td>14</td>\n",
       "    </tr>\n",
       "    <tr>\n",
       "      <th>14219</th>\n",
       "      <td>South Korea</td>\n",
       "      <td>2021-02-26</td>\n",
       "      <td>Moderna</td>\n",
       "      <td>7113</td>\n",
       "    </tr>\n",
       "    <tr>\n",
       "      <th>14220</th>\n",
       "      <td>South Korea</td>\n",
       "      <td>2021-02-26</td>\n",
       "      <td>Oxford/AstraZeneca</td>\n",
       "      <td>21669</td>\n",
       "    </tr>\n",
       "    <tr>\n",
       "      <th>14221</th>\n",
       "      <td>South Korea</td>\n",
       "      <td>2021-02-26</td>\n",
       "      <td>Pfizer/BioNTech</td>\n",
       "      <td>2228</td>\n",
       "    </tr>\n",
       "    <tr>\n",
       "      <th>14222</th>\n",
       "      <td>South Korea</td>\n",
       "      <td>2021-02-27</td>\n",
       "      <td>Johnson&amp;Johnson</td>\n",
       "      <td>16</td>\n",
       "    </tr>\n",
       "    <tr>\n",
       "      <th>...</th>\n",
       "      <td>...</td>\n",
       "      <td>...</td>\n",
       "      <td>...</td>\n",
       "      <td>...</td>\n",
       "    </tr>\n",
       "    <tr>\n",
       "      <th>15253</th>\n",
       "      <td>South Korea</td>\n",
       "      <td>2021-11-11</td>\n",
       "      <td>Pfizer/BioNTech</td>\n",
       "      <td>44445048</td>\n",
       "    </tr>\n",
       "    <tr>\n",
       "      <th>15254</th>\n",
       "      <td>South Korea</td>\n",
       "      <td>2021-11-12</td>\n",
       "      <td>Johnson&amp;Johnson</td>\n",
       "      <td>1496969</td>\n",
       "    </tr>\n",
       "    <tr>\n",
       "      <th>15255</th>\n",
       "      <td>South Korea</td>\n",
       "      <td>2021-11-12</td>\n",
       "      <td>Moderna</td>\n",
       "      <td>13119622</td>\n",
       "    </tr>\n",
       "    <tr>\n",
       "      <th>15256</th>\n",
       "      <td>South Korea</td>\n",
       "      <td>2021-11-12</td>\n",
       "      <td>Oxford/AstraZeneca</td>\n",
       "      <td>22125290</td>\n",
       "    </tr>\n",
       "    <tr>\n",
       "      <th>15257</th>\n",
       "      <td>South Korea</td>\n",
       "      <td>2021-11-12</td>\n",
       "      <td>Pfizer/BioNTech</td>\n",
       "      <td>44652959</td>\n",
       "    </tr>\n",
       "  </tbody>\n",
       "</table>\n",
       "<p>1040 rows × 4 columns</p>\n",
       "</div>"
      ],
      "text/plain": [
       "          location        date             vaccine  total_vaccinations\n",
       "14218  South Korea  2021-02-26     Johnson&Johnson                  14\n",
       "14219  South Korea  2021-02-26             Moderna                7113\n",
       "14220  South Korea  2021-02-26  Oxford/AstraZeneca               21669\n",
       "14221  South Korea  2021-02-26     Pfizer/BioNTech                2228\n",
       "14222  South Korea  2021-02-27     Johnson&Johnson                  16\n",
       "...            ...         ...                 ...                 ...\n",
       "15253  South Korea  2021-11-11     Pfizer/BioNTech            44445048\n",
       "15254  South Korea  2021-11-12     Johnson&Johnson             1496969\n",
       "15255  South Korea  2021-11-12             Moderna            13119622\n",
       "15256  South Korea  2021-11-12  Oxford/AstraZeneca            22125290\n",
       "15257  South Korea  2021-11-12     Pfizer/BioNTech            44652959\n",
       "\n",
       "[1040 rows x 4 columns]"
      ]
     },
     "execution_count": 5,
     "metadata": {},
     "output_type": "execute_result"
    }
   ],
   "source": [
    "south_korea_data"
   ]
  },
  {
   "cell_type": "code",
   "execution_count": 6,
   "id": "e4c5b780-291c-4b47-b540-7697a6d16347",
   "metadata": {},
   "outputs": [
    {
     "data": {
      "text/html": [
       "<div>\n",
       "<style scoped>\n",
       "    .dataframe tbody tr th:only-of-type {\n",
       "        vertical-align: middle;\n",
       "    }\n",
       "\n",
       "    .dataframe tbody tr th {\n",
       "        vertical-align: top;\n",
       "    }\n",
       "\n",
       "    .dataframe thead th {\n",
       "        text-align: right;\n",
       "    }\n",
       "</style>\n",
       "<table border=\"1\" class=\"dataframe\">\n",
       "  <thead>\n",
       "    <tr style=\"text-align: right;\">\n",
       "      <th></th>\n",
       "      <th>total_vaccinations</th>\n",
       "    </tr>\n",
       "  </thead>\n",
       "  <tbody>\n",
       "    <tr>\n",
       "      <th>count</th>\n",
       "      <td>1.040000e+03</td>\n",
       "    </tr>\n",
       "    <tr>\n",
       "      <th>mean</th>\n",
       "      <td>6.937404e+06</td>\n",
       "    </tr>\n",
       "    <tr>\n",
       "      <th>std</th>\n",
       "      <td>1.020219e+07</td>\n",
       "    </tr>\n",
       "    <tr>\n",
       "      <th>min</th>\n",
       "      <td>1.400000e+01</td>\n",
       "    </tr>\n",
       "    <tr>\n",
       "      <th>25%</th>\n",
       "      <td>6.608925e+04</td>\n",
       "    </tr>\n",
       "    <tr>\n",
       "      <th>50%</th>\n",
       "      <td>1.463677e+06</td>\n",
       "    </tr>\n",
       "    <tr>\n",
       "      <th>75%</th>\n",
       "      <td>1.130073e+07</td>\n",
       "    </tr>\n",
       "    <tr>\n",
       "      <th>max</th>\n",
       "      <td>4.465296e+07</td>\n",
       "    </tr>\n",
       "  </tbody>\n",
       "</table>\n",
       "</div>"
      ],
      "text/plain": [
       "       total_vaccinations\n",
       "count        1.040000e+03\n",
       "mean         6.937404e+06\n",
       "std          1.020219e+07\n",
       "min          1.400000e+01\n",
       "25%          6.608925e+04\n",
       "50%          1.463677e+06\n",
       "75%          1.130073e+07\n",
       "max          4.465296e+07"
      ]
     },
     "execution_count": 6,
     "metadata": {},
     "output_type": "execute_result"
    }
   ],
   "source": [
    "south_korea_data.describe()"
   ]
  },
  {
   "cell_type": "code",
   "execution_count": 18,
   "id": "ba4fb2b0-71dd-4188-9fb3-1b1c0fcc0b00",
   "metadata": {},
   "outputs": [],
   "source": [
    "updated_vaccination_in_sk = south_korea_data.groupby('vaccine').max()"
   ]
  },
  {
   "cell_type": "code",
   "execution_count": 19,
   "id": "4663dc6e-39fa-4852-9672-f5ea2d624efe",
   "metadata": {},
   "outputs": [
    {
     "data": {
      "text/html": [
       "<div>\n",
       "<style scoped>\n",
       "    .dataframe tbody tr th:only-of-type {\n",
       "        vertical-align: middle;\n",
       "    }\n",
       "\n",
       "    .dataframe tbody tr th {\n",
       "        vertical-align: top;\n",
       "    }\n",
       "\n",
       "    .dataframe thead th {\n",
       "        text-align: right;\n",
       "    }\n",
       "</style>\n",
       "<table border=\"1\" class=\"dataframe\">\n",
       "  <thead>\n",
       "    <tr style=\"text-align: right;\">\n",
       "      <th></th>\n",
       "      <th>location</th>\n",
       "      <th>date</th>\n",
       "      <th>total_vaccinations</th>\n",
       "    </tr>\n",
       "    <tr>\n",
       "      <th>vaccine</th>\n",
       "      <th></th>\n",
       "      <th></th>\n",
       "      <th></th>\n",
       "    </tr>\n",
       "  </thead>\n",
       "  <tbody>\n",
       "    <tr>\n",
       "      <th>Johnson&amp;Johnson</th>\n",
       "      <td>South Korea</td>\n",
       "      <td>2021-11-12</td>\n",
       "      <td>1496969</td>\n",
       "    </tr>\n",
       "    <tr>\n",
       "      <th>Moderna</th>\n",
       "      <td>South Korea</td>\n",
       "      <td>2021-11-12</td>\n",
       "      <td>13119622</td>\n",
       "    </tr>\n",
       "    <tr>\n",
       "      <th>Oxford/AstraZeneca</th>\n",
       "      <td>South Korea</td>\n",
       "      <td>2021-11-12</td>\n",
       "      <td>22125290</td>\n",
       "    </tr>\n",
       "    <tr>\n",
       "      <th>Pfizer/BioNTech</th>\n",
       "      <td>South Korea</td>\n",
       "      <td>2021-11-12</td>\n",
       "      <td>44652959</td>\n",
       "    </tr>\n",
       "  </tbody>\n",
       "</table>\n",
       "</div>"
      ],
      "text/plain": [
       "                       location        date  total_vaccinations\n",
       "vaccine                                                        \n",
       "Johnson&Johnson     South Korea  2021-11-12             1496969\n",
       "Moderna             South Korea  2021-11-12            13119622\n",
       "Oxford/AstraZeneca  South Korea  2021-11-12            22125290\n",
       "Pfizer/BioNTech     South Korea  2021-11-12            44652959"
      ]
     },
     "execution_count": 19,
     "metadata": {},
     "output_type": "execute_result"
    }
   ],
   "source": [
    "updated_vaccination_in_sk"
   ]
  },
  {
   "cell_type": "code",
   "execution_count": 20,
   "id": "d509cedf-93b0-488e-9912-2aaeeadafaa7",
   "metadata": {},
   "outputs": [],
   "source": [
    "biggest_vaccine_total_sk = updated_vaccination_in_sk.max()"
   ]
  },
  {
   "cell_type": "code",
   "execution_count": 21,
   "id": "41a49ddc-7718-450b-a54a-c3e759282ead",
   "metadata": {},
   "outputs": [
    {
     "data": {
      "text/plain": [
       "array(['South Korea', '2021-11-12', 44652959], dtype=object)"
      ]
     },
     "execution_count": 21,
     "metadata": {},
     "output_type": "execute_result"
    }
   ],
   "source": [
    "biggest_vaccine_total_sk.values"
   ]
  },
  {
   "cell_type": "code",
   "execution_count": 22,
   "id": "c12a68ce-4471-42af-b695-e9145f885d66",
   "metadata": {},
   "outputs": [],
   "source": [
    "biggest_vaccine_sk = updated_vaccination_in_sk[updated_vaccination_in_sk['total_vaccinations'] == biggest_vaccine_total_sk.values[2]]"
   ]
  },
  {
   "cell_type": "code",
   "execution_count": 23,
   "id": "aafadc72-67a4-474c-b971-ae1f64ee23d0",
   "metadata": {},
   "outputs": [
    {
     "data": {
      "text/plain": [
       "'Pfizer/BioNTech'"
      ]
     },
     "execution_count": 23,
     "metadata": {},
     "output_type": "execute_result"
    }
   ],
   "source": [
    "biggest_vaccine_sk.index[0]"
   ]
  },
  {
   "cell_type": "markdown",
   "id": "4d094903-bd2a-4dfd-9467-79aa951fbc7d",
   "metadata": {
    "tags": []
   },
   "source": [
    "### Another way"
   ]
  },
  {
   "cell_type": "code",
   "execution_count": 24,
   "id": "5907ba01-576e-4c96-a797-839bc4255256",
   "metadata": {},
   "outputs": [],
   "source": [
    "biggest_vaccine_total_sk = updated_vaccination_in_sk.agg({'total_vaccinations':'max'})"
   ]
  },
  {
   "cell_type": "code",
   "execution_count": 25,
   "id": "31307b59-e810-4deb-8310-e9f6b5009fbd",
   "metadata": {},
   "outputs": [
    {
     "data": {
      "text/plain": [
       "total_vaccinations    44652959\n",
       "dtype: int64"
      ]
     },
     "execution_count": 25,
     "metadata": {},
     "output_type": "execute_result"
    }
   ],
   "source": [
    "biggest_vaccine_total_sk"
   ]
  },
  {
   "cell_type": "code",
   "execution_count": 28,
   "id": "f3b7bd69-7170-4241-b311-12bdbc177318",
   "metadata": {},
   "outputs": [],
   "source": [
    "assert biggest_vaccine_sk.index[0] == 'Pfizer/BioNTech'"
   ]
  },
  {
   "cell_type": "code",
   "execution_count": null,
   "id": "90e169fc-66cd-429b-a7d1-c04b2496ffbe",
   "metadata": {},
   "outputs": [],
   "source": []
  }
 ],
 "metadata": {
  "kernelspec": {
   "display_name": "Python 3 (ipykernel)",
   "language": "python",
   "name": "python3"
  },
  "language_info": {
   "codemirror_mode": {
    "name": "ipython",
    "version": 3
   },
   "file_extension": ".py",
   "mimetype": "text/x-python",
   "name": "python",
   "nbconvert_exporter": "python",
   "pygments_lexer": "ipython3",
   "version": "3.8.1"
  }
 },
 "nbformat": 4,
 "nbformat_minor": 5
}
