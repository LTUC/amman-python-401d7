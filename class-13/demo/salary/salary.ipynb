{
 "cells": [
  {
   "cell_type": "markdown",
   "id": "85458a96-42ab-4f45-b93d-050fb11c9fd2",
   "metadata": {},
   "source": [
    "# Linear Regression"
   ]
  },
  {
   "cell_type": "code",
   "execution_count": 1,
   "id": "cf6fea5b-7c84-463a-ac5b-9e139cfc4938",
   "metadata": {},
   "outputs": [],
   "source": [
    "import pandas as pd\n",
    "import matplotlib.pyplot as plt\n",
    "from sklearn.linear_model import LinearRegression\n",
    "from sklearn.model_selection import train_test_split"
   ]
  },
  {
   "cell_type": "markdown",
   "id": "d0d9fb1f-5eb3-4a08-afe4-1a0fe5a488c4",
   "metadata": {},
   "source": [
    "## Salary based on years of experience"
   ]
  },
  {
   "cell_type": "code",
   "execution_count": 2,
   "id": "0e25437f-7b24-4e57-b0ab-1bbb8d8d0cb9",
   "metadata": {},
   "outputs": [],
   "source": [
    "data = pd.read_csv('salary.csv')"
   ]
  },
  {
   "cell_type": "code",
   "execution_count": 3,
   "id": "79618aa5-6d4e-46a3-97eb-d2bb90ca51ac",
   "metadata": {},
   "outputs": [
    {
     "data": {
      "text/html": [
       "<div>\n",
       "<style scoped>\n",
       "    .dataframe tbody tr th:only-of-type {\n",
       "        vertical-align: middle;\n",
       "    }\n",
       "\n",
       "    .dataframe tbody tr th {\n",
       "        vertical-align: top;\n",
       "    }\n",
       "\n",
       "    .dataframe thead th {\n",
       "        text-align: right;\n",
       "    }\n",
       "</style>\n",
       "<table border=\"1\" class=\"dataframe\">\n",
       "  <thead>\n",
       "    <tr style=\"text-align: right;\">\n",
       "      <th></th>\n",
       "      <th>YearsExperience</th>\n",
       "      <th>Salary</th>\n",
       "    </tr>\n",
       "  </thead>\n",
       "  <tbody>\n",
       "    <tr>\n",
       "      <th>0</th>\n",
       "      <td>1.1</td>\n",
       "      <td>39343</td>\n",
       "    </tr>\n",
       "    <tr>\n",
       "      <th>1</th>\n",
       "      <td>1.3</td>\n",
       "      <td>46205</td>\n",
       "    </tr>\n",
       "    <tr>\n",
       "      <th>2</th>\n",
       "      <td>1.5</td>\n",
       "      <td>37731</td>\n",
       "    </tr>\n",
       "    <tr>\n",
       "      <th>3</th>\n",
       "      <td>2.0</td>\n",
       "      <td>43525</td>\n",
       "    </tr>\n",
       "    <tr>\n",
       "      <th>4</th>\n",
       "      <td>2.2</td>\n",
       "      <td>39891</td>\n",
       "    </tr>\n",
       "  </tbody>\n",
       "</table>\n",
       "</div>"
      ],
      "text/plain": [
       "   YearsExperience  Salary\n",
       "0              1.1   39343\n",
       "1              1.3   46205\n",
       "2              1.5   37731\n",
       "3              2.0   43525\n",
       "4              2.2   39891"
      ]
     },
     "execution_count": 3,
     "metadata": {},
     "output_type": "execute_result"
    }
   ],
   "source": [
    "data.head(5)"
   ]
  },
  {
   "cell_type": "code",
   "execution_count": 4,
   "id": "a3c9013b-a28f-4072-80cb-d4fa395294be",
   "metadata": {},
   "outputs": [],
   "source": [
    "X = data['YearsExperience'].values"
   ]
  },
  {
   "cell_type": "code",
   "execution_count": 5,
   "id": "e4b2971d-f1ed-4f95-9a95-e76bdc5ee3b8",
   "metadata": {},
   "outputs": [],
   "source": [
    "Y = data['Salary'].values"
   ]
  },
  {
   "cell_type": "code",
   "execution_count": 6,
   "id": "ea739b87-f634-42ce-bc81-516def387bea",
   "metadata": {},
   "outputs": [],
   "source": [
    "x_train, x_test, y_train, y_test = train_test_split(X, Y, train_size=0.8, test_size=0.2, random_state=23)"
   ]
  },
  {
   "cell_type": "code",
   "execution_count": 7,
   "id": "7e16853c-29f2-4862-a9d8-885404065bf1",
   "metadata": {},
   "outputs": [],
   "source": [
    "x_train, x_test, y_train, y_test = train_test_split(X, Y, train_size=0.8, test_size=0.2, random_state=21)"
   ]
  },
  {
   "cell_type": "markdown",
   "id": "22172bae-7db0-463c-b870-00d0a7bf73e8",
   "metadata": {},
   "source": [
    "## Let's create the linear regression model"
   ]
  },
  {
   "cell_type": "code",
   "execution_count": 8,
   "id": "6ffc817b-ed7b-490c-ac85-2d402a5cb727",
   "metadata": {},
   "outputs": [
    {
     "data": {
      "text/plain": [
       "LinearRegression()"
      ]
     },
     "execution_count": 8,
     "metadata": {},
     "output_type": "execute_result"
    }
   ],
   "source": [
    "# Load data into model\n",
    "model = LinearRegression()\n",
    "model.fit(x_train.reshape(-1,1), y_train)"
   ]
  },
  {
   "cell_type": "markdown",
   "id": "a46c0eee-5a6b-43b3-b9b1-ca1a037333b3",
   "metadata": {},
   "source": [
    "## Predict output based on Regression Model"
   ]
  },
  {
   "cell_type": "code",
   "execution_count": 9,
   "id": "16082871-2ec4-4e68-a49b-268611e33ebc",
   "metadata": {},
   "outputs": [],
   "source": [
    "y_predict = model.predict(x_test.reshape(-1,1))"
   ]
  },
  {
   "cell_type": "markdown",
   "id": "725fd9aa-9479-4844-8f1f-f825bf4c6c36",
   "metadata": {},
   "source": [
    "### Before using the model, let's calculate the accuracy"
   ]
  },
  {
   "cell_type": "code",
   "execution_count": 10,
   "id": "eaa46006-ddfc-4d25-8b44-86352d126442",
   "metadata": {},
   "outputs": [],
   "source": [
    "train_accuracy = model.score(x_train.reshape(-1,1), y_train)"
   ]
  },
  {
   "cell_type": "code",
   "execution_count": 11,
   "id": "5ecdf694-4224-4de1-a04d-ad64e402e7ed",
   "metadata": {},
   "outputs": [],
   "source": [
    "test_accuracy = model.score(x_test.reshape(-1,1), y_test)"
   ]
  },
  {
   "cell_type": "markdown",
   "id": "3e7467f3-9fae-4030-8f79-e9789324a58e",
   "metadata": {},
   "source": [
    "### Given specific years of experience, how much money you think I will make?"
   ]
  },
  {
   "cell_type": "code",
   "execution_count": 12,
   "id": "f7a22f3c-c816-4d39-a772-a0d533d00bdf",
   "metadata": {},
   "outputs": [],
   "source": [
    "import numpy as np\n",
    "new_data = np.array([6]).reshape(-1,1)"
   ]
  },
  {
   "cell_type": "code",
   "execution_count": 13,
   "id": "a1901753-704f-4b77-83d5-a66ba0452f6a",
   "metadata": {},
   "outputs": [
    {
     "data": {
      "text/plain": [
       "array([80967.01937073])"
      ]
     },
     "execution_count": 13,
     "metadata": {},
     "output_type": "execute_result"
    }
   ],
   "source": [
    "model.predict(new_data)"
   ]
  },
  {
   "cell_type": "markdown",
   "id": "b8fec625-963a-4921-8cb0-11d160439ceb",
   "metadata": {
    "tags": []
   },
   "source": [
    "## Plotting"
   ]
  },
  {
   "cell_type": "code",
   "execution_count": 14,
   "id": "0c1836b6-c564-4b26-b57e-b61088668c79",
   "metadata": {},
   "outputs": [
    {
     "data": {
      "text/plain": [
       "Text(0.5, 1.0, 'Salary Data')"
      ]
     },
     "execution_count": 14,
     "metadata": {},
     "output_type": "execute_result"
    },
    {
     "data": {
      "image/png": "[encoded data removed]",
      "text/plain": [
       "<Figure size 432x288 with 1 Axes>"
      ]
     },
     "metadata": {
      "needs_background": "light"
     },
     "output_type": "display_data"
    }
   ],
   "source": [
    "## X and Y\n",
    "%matplotlib inline\n",
    "plt.scatter(X,Y,color='blue')\n",
    "plt.xlabel('Years of Experience')\n",
    "plt.ylabel('Salary')\n",
    "plt.title('Salary Data')\n"
   ]
  },
  {
   "cell_type": "code",
   "execution_count": 15,
   "id": "f6c5a948-c5f3-4bf2-88e5-f75b8fca9bae",
   "metadata": {},
   "outputs": [
    {
     "data": {
      "text/plain": [
       "Text(0.5, 1.0, 'Actual Data vs Predicted Data')"
      ]
     },
     "execution_count": 15,
     "metadata": {},
     "output_type": "execute_result"
    },
    {
     "data": {
      "image/png": "[encoded data removed]",
      "text/plain": [
       "<Figure size 432x288 with 1 Axes>"
      ]
     },
     "metadata": {
      "needs_background": "light"
     },
     "output_type": "display_data"
    }
   ],
   "source": [
    "%matplotlib inline\n",
    "plt.scatter(x_test,y_test,color='blue')\n",
    "plt.scatter(x_test,y_predict,color='red')\n",
    "plt.xlabel('Years of Experience')\n",
    "plt.ylabel('Salary')\n",
    "plt.title('Actual Data vs Predicted Data')"
   ]
  },
  {
   "cell_type": "code",
   "execution_count": null,
   "id": "1c82c493-b004-46b8-89a1-96b2c7c66d26",
   "metadata": {},
   "outputs": [],
   "source": []
  }
 ],
 "metadata": {
  "kernelspec": {
   "display_name": "Python 3 (ipykernel)",
   "language": "python",
   "name": "python3"
  },
  "language_info": {
   "codemirror_mode": {
    "name": "ipython",
    "version": 3
   },
   "file_extension": ".py",
   "mimetype": "text/x-python",
   "name": "python",
   "nbconvert_exporter": "python",
   "pygments_lexer": "ipython3",
   "version": "3.8.1"
  }
 },
 "nbformat": 4,
 "nbformat_minor": 5
}
